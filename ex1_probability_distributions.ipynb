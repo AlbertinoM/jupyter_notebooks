{
 "cells": [
  {
   "cell_type": "markdown",
   "metadata": {},
   "source": [
    "# Exercise 1: Basic concepts on random variables and probability distributions"
   ]
  },
  {
   "cell_type": "markdown",
   "metadata": {},
   "source": [
    "## Introduction\n",
    "This notebook includes a series of cells with code (Python) and descriptive text (markdown) and provides a number of exercises.\n",
    "Work through the exercises and add, as appropriate, new cells with your code or descriptive text to answer the questions.\n",
    "All required data are provided in your exercise folder.\n",
    "\n",
    "To submit your work, follow the steps '**Before you submit**' and '**How to submit**' in the *intro2notebook.ipynb* file contained in the *ex0_introduction_to_python.zip*.\n",
    "Please note that this is the same for all exercises."
   ]
  },
  {
   "cell_type": "markdown",
   "metadata": {},
   "source": [
    "### Part I: Basic statistics and probability calculation"
   ]
  },
  {
   "cell_type": "code",
   "execution_count": 2,
   "metadata": {},
   "outputs": [],
   "source": [
    "#First import some of the basic python packages we want to use:\n",
    "import pandas as pd\n",
    "import matplotlib.pyplot as plt\n",
    "import numpy as np\n",
    "%matplotlib inline"
   ]
  },
  {
   "cell_type": "markdown",
   "metadata": {},
   "source": [
    "#### Question I.1\n",
    "\n",
    "From monthly data (file *P_uppmonth1.dat*): compute for each month (column-wise) mean, median, mode, standard deviation, coefficient of variation, minimum and maximum.\n",
    "Plot these values (except the mode) to show the annual variation.\n",
    "Note that coefficient of variation has a different unit than the other statistics, and thus needs to be plotted in a separate figure."
   ]
  },
  {
   "cell_type": "code",
   "execution_count": null,
   "metadata": {},
   "outputs": [],
   "source": [
    "# Basic statistics can be easily calculated by defining DataFrames in pandas (like we did above)\n",
    "\n",
    "# To add all of the values in a particular column of a DataFrame (or a Series), you can do the following:\n",
    "# df[‘column_name’].sum()\n",
    "\n",
    "\n",
    "# Note: Passing the argument of axis=0 returns the mean of every single column in the DataFrame; e.g. df.mean(axis=0)\n",
    "#       Passing the argument of axis=1 returns the mean of every single  row   in the DataFrame; e.g. df.mean(axis=1)"
   ]
  },
  {
   "cell_type": "markdown",
   "metadata": {},
   "source": [
    "#### Question I.2\n",
    "\n",
    "For daily data (file *P_Uppsala.dat*, values in [mm]): Estimate the probabilities that daily precipitation\n",
    "\n",
    "1. equals zero\n",
    "2. is more than zero\n",
    "3. is more than 10 mm\n",
    "4. is more than 10 mm on a day with precipitation"
   ]
  },
  {
   "cell_type": "markdown",
   "metadata": {},
   "source": [
    "#### Question I.3\n",
    "\n",
    "From the daily data, calculate the maximum 1-day, 3-day and 5-day average rainfall amount, and state the date/period.\n",
    "\n",
    "*Hint: to compute average over x days, you can check out the pandas DataFrame method [rolling](https://pandas.pydata.org/pandas-docs/stable/reference/api/pandas.DataFrame.rolling.html).*"
   ]
  },
  {
   "cell_type": "markdown",
   "metadata": {},
   "source": [
    "#### Question I.4\n",
    "\n",
    "From the daily rainfall data, compute the maximum dry-spell duration (largest number of consecutive days without rain) and the maximum wet-spell duration (largest number of consecutive days with rain). When do they occur?"
   ]
  },
  {
   "cell_type": "markdown",
   "metadata": {},
   "source": [
    "#### Question I.5\n",
    "\n",
    "The depth of clarity $\\left(D\\right)$ of Lake Tahoe was measured (in inches) at several locations. Measurements are available in the file *Tahoe.dat*.\n",
    "\n",
    "1. Plot the histogram (relative frequency) with class intervals of length 5.\n",
    "2. Plot the cumulative relative frequency and estimate $\\Pr\\left(D \\leqslant 40\\right)$ and $\\Pr\\left(15 \\leqslant D \\leqslant 30\\right)$."
   ]
  },
  {
   "cell_type": "markdown",
   "metadata": {},
   "source": [
    "####  Question I.6\n",
    "\n",
    "Given the function $f$\n",
    "\n",
    "$$\n",
    "f\\left(x\\right) = \n",
    "\\begin{cases}\n",
    "  c x^2 & \\text{if } 0 < x \\leqslant 1 \\\\ \\\\\n",
    "  0 & \\text{otherwise}\n",
    "\\end{cases}\n",
    "$$\n",
    "\n",
    "solve the following problems analytically:\n",
    "\n",
    "1. Find the value for $c$ so that $f\\left(x\\right)$ becomes a the probability density function of a continuous random variable $x$.\n",
    "   Use that $\\int_{-\\infty }^{\\infty }f\\left(x\\right)dx$ = 1\n",
    "2. Find the distribution function, $F\\left(x\\right)$\n",
    "3. Calculate $\\Pr\\left(x < 0\\right)$, $\\Pr\\left(x = 0.5\\right)$, $\\Pr\\left(x > 1\\right)$,\n",
    "   $\\Pr\\left(0 \\leqslant x \\leqslant 0.5\\right)$ and $\\Pr\\left(0 < x < 0.5\\right)$\n",
    "4. Find the median\n",
    "5. Find the mode\n",
    "6. Calculate the expected value $\\textrm{E}\\left(x\\right)$\n",
    "7. Calculate the variance $\\textrm{Var}\\left(x\\right)$"
   ]
  },
  {
   "cell_type": "markdown",
   "metadata": {},
   "source": [
    "### Part II: Probability distributions"
   ]
  },
  {
   "cell_type": "markdown",
   "metadata": {},
   "source": [
    "#### Question II.1\n",
    "The number of rainy days in July and August at a meteorological station is given in the table below.\n",
    "\n",
    "\n",
    "Year|1|2|3|4|5|6|7|8|9|10|\n",
    "-|-|-|-|-|-|-|-|-|-|-|\n",
    "July|10|15|17|8|9|19|17|14|20|4\n",
    "August|4|9|8|3|0|10|12|2|8|6\n",
    "\n",
    "##### a) Use the Hypergeometric, Binomial and Poisson distributions to calculate \n",
    "1) What is the probability of 10 rainy days in each of the months of July and August? \n",
    "\n",
    "2) What is the probability of 20 rainy days in the 2 month period? \n",
    "\n",
    "*Note: if you wish to use factorial function then you have to import the module 'math' by the command 'import math' then write: math.factorial(x)*\n",
    "\n",
    "\n",
    "* **Hint: Hypergeometric distribution:**\n",
    "    ```python\n",
    "    from scipy.stats import hypergeom   \n",
    "    hypergeom.pmf(x, N, n, k)\n",
    "    ```\n",
    "    where\n",
    "        - k is the number of \"successes\" in the population\n",
    "        - x is the number of \"successes\" in the sample\n",
    "        - N is the size of the population\n",
    "        - n is the number sampled\n",
    "        \n",
    "\n",
    "* **Hint: Binomial distribution**\n",
    "    ```python\n",
    "    from scipy.stats import binom\n",
    "    binom.pmf(x,n,p)\n",
    "    ```\n",
    "    where\n",
    "        - p is the probability of success\n",
    "        - n and x same as for the hypergeometric distribution\n",
    "\n",
    "\n",
    "* **Hint: Poisson distribution**\n",
    "    ```python\n",
    "    from scipy.stats import poisson\n",
    "    poisson.pmf(x, λ)\n",
    "    ```\n",
    "    where $\\lambda=p \\cdot n$ (p and n are the same as for the binomial distribution)"
   ]
  },
  {
   "cell_type": "markdown",
   "metadata": {},
   "source": [
    "##### b) Which assumptions in each method are likely violated by this problem?"
   ]
  },
  {
   "cell_type": "markdown",
   "metadata": {},
   "source": [
    "##### c) What is the probability that the sixth rainy day of August occurs on 30 August, assuming that rain occurrences are independent events?\n",
    "**Hint: use the negative binomial distribution**"
   ]
  },
  {
   "cell_type": "markdown",
   "metadata": {},
   "source": [
    "#### Question II.2\n",
    "A real estate developer tells a group of concerned citizens\n",
    "that a new housing project will be well prepared to tackle\n",
    "the problems associated with a 10-year flood\n",
    "and that there is nothing to worry about for the next 9 years.\n",
    "On the 10th year, when the flood will occur as he says, the local\n",
    "flood protection authority will have prepared everything.\n",
    "Compute the probability that the real estate developer is actually\n",
    "right and that the 10-year flood occurs on the 10th year for the first time."
   ]
  },
  {
   "cell_type": "markdown",
   "metadata": {},
   "source": [
    "#### Question II.3\n",
    "Assume that the annual maximum discharge at a river station is normally distributed with a mean\n",
    "of 75 m$^3$/s and a standard deviation of 10 m$^3$/s.\n",
    "What is the probability for any given year to have\n",
    "a maximum flow that is\n",
    "\n",
    "a) less than 70 m$^3$/s?\n",
    "\n",
    "b) larger than 95 m$^3$/s?\n",
    "\n",
    "c) between 60 and 80 m$^3$/s?\n",
    "\n",
    "d) What is the flow that is not exceeded with 90% probability?\n",
    "\n",
    "e) What is the flow with 80% probability to be exceeded?\n",
    "\n",
    "f) In which interval (centred on the mean) would 50% of the flows fall?\n",
    "\n",
    " * **Hint**: you may use the following functions to find probability/quantile values of a normal distribution:\n",
    "     * *scipy.stats.norm(mean, sd).cdf(discharge)*\n",
    "     * *scipy.stats.norm(mean, sd).ppf(cumulated_probability) where probability is as expressed as a percentage*\n"
   ]
  },
  {
   "cell_type": "markdown",
   "metadata": {
    "jp-MarkdownHeadingCollapsed": true,
    "tags": []
   },
   "source": [
    "#### Question II.4\n",
    "\n",
    "a) Plot the probability mass function of the Poisson distribution for $\\lambda = 3$.\n",
    "\n",
    "b) Approximate the Poisson distribution by a normal distribution and plot the normal approximations on the same graph.\n",
    "\n",
    "c) (Optional) Do the same as in a) and b) but with $\\lambda = 8$."
   ]
  }
 ],
 "metadata": {
  "anaconda-cloud": {},
  "kernelspec": {
   "display_name": "Python 3",
   "language": "python",
   "name": "python3"
  },
  "language_info": {
   "codemirror_mode": {
    "name": "ipython",
    "version": 3
   },
   "file_extension": ".py",
   "mimetype": "text/x-python",
   "name": "python",
   "nbconvert_exporter": "python",
   "pygments_lexer": "ipython3",
   "version": "3.10.6"
  }
 },
 "nbformat": 4,
 "nbformat_minor": 4
}
